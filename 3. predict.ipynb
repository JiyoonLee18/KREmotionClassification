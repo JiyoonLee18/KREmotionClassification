{
 "cells": [
  {
   "cell_type": "code",
   "execution_count": 1,
   "metadata": {},
   "outputs": [
    {
     "name": "stderr",
     "output_type": "stream",
     "text": [
      "c:\\Users\\82105\\anaconda3\\envs\\cpuvenv\\lib\\site-packages\\tqdm\\auto.py:21: TqdmWarning: IProgress not found. Please update jupyter and ipywidgets. See https://ipywidgets.readthedocs.io/en/stable/user_install.html\n",
      "  from .autonotebook import tqdm as notebook_tqdm\n"
     ]
    }
   ],
   "source": [
    "import os\n",
    "import numpy as np\n",
    "import pandas as pd\n",
    "from glob import glob\n",
    "\n",
    "import joblib\n",
    "\n",
    "from utils import get_features, text_embedding\n",
    "\n",
    "from keras.models import load_model\n",
    "from sentence_transformers import SentenceTransformer"
   ]
  },
  {
   "cell_type": "code",
   "execution_count": 2,
   "metadata": {},
   "outputs": [],
   "source": [
    "current_path=os.getcwd().replace(\"\\\\\", \"/\").replace(\"c:\", \"C:\")\n",
    "data_path=current_path+'/data/'\n",
    "model_path=current_path+\"/model/\""
   ]
  },
  {
   "cell_type": "code",
   "execution_count": 3,
   "metadata": {},
   "outputs": [],
   "source": [
    "model = load_model(model_path+'my_model.h5')\n",
    "encoder = joblib.load(model_path+'encoder.pkl')\n",
    "scaler = joblib.load(model_path+'scaler.pkl')\n",
    "with open(model_path+'text_model_name.txt', 'r') as file:\n",
    "    text_model_name = file.read().strip()"
   ]
  },
  {
   "cell_type": "code",
   "execution_count": 5,
   "metadata": {},
   "outputs": [],
   "source": [
    "txt_data=pd.read_csv(data_path+\"label/original.csv\")"
   ]
  },
  {
   "cell_type": "code",
   "execution_count": 46,
   "metadata": {},
   "outputs": [
    {
     "data": {
      "text/html": [
       "<div>\n",
       "<style scoped>\n",
       "    .dataframe tbody tr th:only-of-type {\n",
       "        vertical-align: middle;\n",
       "    }\n",
       "\n",
       "    .dataframe tbody tr th {\n",
       "        vertical-align: top;\n",
       "    }\n",
       "\n",
       "    .dataframe thead th {\n",
       "        text-align: right;\n",
       "    }\n",
       "</style>\n",
       "<table border=\"1\" class=\"dataframe\">\n",
       "  <thead>\n",
       "    <tr style=\"text-align: right;\">\n",
       "      <th></th>\n",
       "      <th>wav_id</th>\n",
       "      <th>final_label</th>\n",
       "      <th>sentence</th>\n",
       "    </tr>\n",
       "  </thead>\n",
       "  <tbody>\n",
       "    <tr>\n",
       "      <th>11367</th>\n",
       "      <td>5f5cc14d54b23616212847f9</td>\n",
       "      <td>happiness</td>\n",
       "      <td>친구들하곤 벌써 약속을 다 잡아놨지.</td>\n",
       "    </tr>\n",
       "    <tr>\n",
       "      <th>42615</th>\n",
       "      <td>5f9921e3f8fac448cc0a858f</td>\n",
       "      <td>happiness</td>\n",
       "      <td>좀 건강은 아주 좋아.</td>\n",
       "    </tr>\n",
       "    <tr>\n",
       "      <th>14627</th>\n",
       "      <td>5f61ec172e23c7161accd3ef</td>\n",
       "      <td>happiness</td>\n",
       "      <td>나 축하해줘! 기분 좋은 일이 있어.</td>\n",
       "    </tr>\n",
       "  </tbody>\n",
       "</table>\n",
       "</div>"
      ],
      "text/plain": [
       "                         wav_id final_label              sentence\n",
       "11367  5f5cc14d54b23616212847f9   happiness  친구들하곤 벌써 약속을 다 잡아놨지.\n",
       "42615  5f9921e3f8fac448cc0a858f   happiness          좀 건강은 아주 좋아.\n",
       "14627  5f61ec172e23c7161accd3ef   happiness  나 축하해줘! 기분 좋은 일이 있어."
      ]
     },
     "execution_count": 46,
     "metadata": {},
     "output_type": "execute_result"
    }
   ],
   "source": [
    "txt_data[txt_data[\"final_label\"]==\"happiness\"].sample(3)"
   ]
  },
  {
   "cell_type": "code",
   "execution_count": 47,
   "metadata": {},
   "outputs": [],
   "source": [
    "file_name='5f61ec172e23c7161accd3ef'\n",
    "new_audio_path = data_path+\"/wavFiles/\"+file_name+'.wav'\n",
    "new_audio_features = get_features(new_audio_path)\n",
    "new_audio_features_df = pd.DataFrame([new_audio_features])\n",
    "\n",
    "new_audio_features_df['wav_id']=file_name\n",
    "new_audio_features_df['final_label']=txt_data[txt_data['wav_id']==file_name]['final_label'].values[0].lower()\n",
    "new_audio_features_df['sentence']=txt_data[txt_data['wav_id']==file_name]['sentence'].values[0]"
   ]
  },
  {
   "cell_type": "code",
   "execution_count": 48,
   "metadata": {},
   "outputs": [
    {
     "name": "stdout",
     "output_type": "stream",
     "text": [
      "1/1 [==============================] - 0s 18ms/step\n"
     ]
    }
   ],
   "source": [
    "txt_embed = text_embedding(model_name = text_model_name)\n",
    "new_audio_features_df = txt_embed.transform(new_audio_features_df)\n",
    "\n",
    "# 특징 표준화\n",
    "new_audio_features_scaled = scaler.transform(new_audio_features_df)\n",
    "\n",
    "# 모델에 맞게 차원 확장\n",
    "new_audio_features_scaled = np.expand_dims(new_audio_features_scaled, axis=2)\n",
    "\n",
    "# 예측 수행\n",
    "prediction = model.predict(new_audio_features_scaled)\n",
    "predicted_label = np.argmax(prediction, axis=1)"
   ]
  },
  {
   "cell_type": "code",
   "execution_count": 49,
   "metadata": {},
   "outputs": [
    {
     "data": {
      "text/plain": [
       "array([3], dtype=int64)"
      ]
     },
     "execution_count": 49,
     "metadata": {},
     "output_type": "execute_result"
    }
   ],
   "source": [
    "predicted_label"
   ]
  },
  {
   "cell_type": "code",
   "execution_count": 50,
   "metadata": {},
   "outputs": [],
   "source": [
    "num_categories = encoder.categories_[0].size  # OneHotEncoder에 의해 인코딩된 카테고리 수\n",
    "\n",
    "# 모델의 예측 결과를 원-핫 인코딩 형식으로 변환\n",
    "predicted_one_hot = np.zeros((predicted_label.size, num_categories))\n",
    "predicted_one_hot[np.arange(predicted_label.size), predicted_label] = 1\n",
    "\n",
    "# 원-핫 인코딩된 예측 결과를 실제 레이블로 변환\n",
    "actual_label = encoder.inverse_transform(predicted_one_hot)\n"
   ]
  },
  {
   "cell_type": "code",
   "execution_count": 51,
   "metadata": {},
   "outputs": [
    {
     "data": {
      "text/plain": [
       "'happiness'"
      ]
     },
     "execution_count": 51,
     "metadata": {},
     "output_type": "execute_result"
    }
   ],
   "source": [
    "actual_label[0][0]"
   ]
  },
  {
   "cell_type": "code",
   "execution_count": 52,
   "metadata": {},
   "outputs": [],
   "source": [
    "# 출력 형식 설정\n",
    "np.set_printoptions(precision=6, suppress=True)"
   ]
  },
  {
   "cell_type": "code",
   "execution_count": 53,
   "metadata": {},
   "outputs": [
    {
     "data": {
      "text/plain": [
       "array([[ 0.189899,  0.000172,  0.      , 99.55067 ,  0.253809,  0.005461]],\n",
       "      dtype=float32)"
      ]
     },
     "execution_count": 53,
     "metadata": {},
     "output_type": "execute_result"
    }
   ],
   "source": [
    "prediction*100"
   ]
  },
  {
   "cell_type": "code",
   "execution_count": 54,
   "metadata": {},
   "outputs": [
    {
     "data": {
      "text/plain": [
       "array([[0.001899, 0.000002, 0.      , 0.995507, 0.002538, 0.000055]],\n",
       "      dtype=float32)"
      ]
     },
     "execution_count": 54,
     "metadata": {},
     "output_type": "execute_result"
    }
   ],
   "source": [
    "prediction"
   ]
  }
 ],
 "metadata": {
  "kernelspec": {
   "display_name": "torch",
   "language": "python",
   "name": "python3"
  },
  "language_info": {
   "codemirror_mode": {
    "name": "ipython",
    "version": 3
   },
   "file_extension": ".py",
   "mimetype": "text/x-python",
   "name": "python",
   "nbconvert_exporter": "python",
   "pygments_lexer": "ipython3",
   "version": "3.10.13"
  }
 },
 "nbformat": 4,
 "nbformat_minor": 2
}
