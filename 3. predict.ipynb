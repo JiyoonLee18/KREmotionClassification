{
 "cells": [
  {
   "cell_type": "code",
   "execution_count": 1,
   "metadata": {},
   "outputs": [
    {
     "name": "stderr",
     "output_type": "stream",
     "text": [
      "c:\\Users\\82105\\anaconda3\\envs\\cpuvenv\\lib\\site-packages\\tqdm\\auto.py:21: TqdmWarning: IProgress not found. Please update jupyter and ipywidgets. See https://ipywidgets.readthedocs.io/en/stable/user_install.html\n",
      "  from .autonotebook import tqdm as notebook_tqdm\n"
     ]
    }
   ],
   "source": [
    "import os\n",
    "import numpy as np\n",
    "import pandas as pd\n",
    "\n",
    "import joblib\n",
    "\n",
    "from utils import get_features, text_embedding\n",
    "\n",
    "from keras.models import load_model\n",
    "from sentence_transformers import SentenceTransformer"
   ]
  },
  {
   "cell_type": "code",
   "execution_count": 2,
   "metadata": {},
   "outputs": [],
   "source": [
    "current_path=os.getcwd().replace(\"\\\\\", \"/\").replace(\"c:\", \"C:\")\n",
    "data_path=current_path+'/data/'\n",
    "model_path=current_path+\"/model/\""
   ]
  },
  {
   "cell_type": "code",
   "execution_count": 3,
   "metadata": {},
   "outputs": [],
   "source": [
    "model = load_model(model_path+'my_model.h5')\n",
    "encoder = joblib.load(model_path+'encoder.pkl')\n",
    "scaler = joblib.load(model_path+'scaler.pkl')\n",
    "with open(model_path+'text_model_name.txt', 'r') as file:\n",
    "    text_model_name = file.read().strip()"
   ]
  },
  {
   "cell_type": "code",
   "execution_count": 4,
   "metadata": {},
   "outputs": [],
   "source": [
    "label_file=data_path+'5차_10011.csv'\n",
    "label=pd.read_csv(label_file, encoding= 'CP949' )"
   ]
  },
  {
   "cell_type": "code",
   "execution_count": 5,
   "metadata": {},
   "outputs": [],
   "source": [
    "file_name='5ebd40eb2a2d173b73a032f6'\n",
    "new_audio_path = data_path+\"/5차_wav/\"+file_name+'.wav'\n",
    "new_audio_features = get_features(new_audio_path)\n",
    "new_audio_features_df = pd.DataFrame([new_audio_features])\n",
    "\n",
    "new_audio_features_df['wav_id']=file_name\n",
    "new_audio_features_df['final_label']=label[label['wav_id']==file_name]['1번 감정'].values[0].lower()\n",
    "new_audio_features_df['sentence']=label[label['wav_id']==file_name]['발화문'].values[0]"
   ]
  },
  {
   "cell_type": "code",
   "execution_count": 6,
   "metadata": {},
   "outputs": [
    {
     "name": "stdout",
     "output_type": "stream",
     "text": [
      "1/1 [==============================] - 0s 148ms/step\n"
     ]
    }
   ],
   "source": [
    "txt_embed = text_embedding(model_name = text_model_name)\n",
    "new_audio_features_df = txt_embed.transform(new_audio_features_df)\n",
    "\n",
    "# 특징 표준화\n",
    "new_audio_features_scaled = scaler.transform(new_audio_features_df)\n",
    "\n",
    "# 모델에 맞게 차원 확장\n",
    "new_audio_features_scaled = np.expand_dims(new_audio_features_scaled, axis=2)\n",
    "\n",
    "# 예측 수행\n",
    "prediction = model.predict(new_audio_features_scaled)\n",
    "predicted_label = np.argmax(prediction, axis=1)"
   ]
  },
  {
   "cell_type": "code",
   "execution_count": 7,
   "metadata": {},
   "outputs": [],
   "source": [
    "num_categories = encoder.categories_[0].size  # OneHotEncoder에 의해 인코딩된 카테고리 수\n",
    "\n",
    "# 모델의 예측 결과를 원-핫 인코딩 형식으로 변환\n",
    "predicted_one_hot = np.zeros((predicted_label.size, num_categories))\n",
    "predicted_one_hot[np.arange(predicted_label.size), predicted_label] = 1\n",
    "\n",
    "# 원-핫 인코딩된 예측 결과를 실제 레이블로 변환\n",
    "actual_label = encoder.inverse_transform(predicted_one_hot)\n"
   ]
  },
  {
   "cell_type": "code",
   "execution_count": 8,
   "metadata": {},
   "outputs": [
    {
     "data": {
      "text/plain": [
       "'angry'"
      ]
     },
     "execution_count": 8,
     "metadata": {},
     "output_type": "execute_result"
    }
   ],
   "source": [
    "actual_label[0][0]"
   ]
  },
  {
   "cell_type": "code",
   "execution_count": 9,
   "metadata": {},
   "outputs": [],
   "source": [
    "# 출력 형식 설정\n",
    "np.set_printoptions(precision=6, suppress=True)"
   ]
  },
  {
   "cell_type": "code",
   "execution_count": 10,
   "metadata": {},
   "outputs": [
    {
     "data": {
      "text/plain": [
       "array([[70.4457  ,  0.002099,  0.124698,  0.000014, 29.42748 ,  0.      ]],\n",
       "      dtype=float32)"
      ]
     },
     "execution_count": 10,
     "metadata": {},
     "output_type": "execute_result"
    }
   ],
   "source": [
    "prediction*100"
   ]
  },
  {
   "cell_type": "code",
   "execution_count": null,
   "metadata": {},
   "outputs": [],
   "source": []
  }
 ],
 "metadata": {
  "kernelspec": {
   "display_name": "torch",
   "language": "python",
   "name": "python3"
  },
  "language_info": {
   "codemirror_mode": {
    "name": "ipython",
    "version": 3
   },
   "file_extension": ".py",
   "mimetype": "text/x-python",
   "name": "python",
   "nbconvert_exporter": "python",
   "pygments_lexer": "ipython3",
   "version": "3.10.13"
  }
 },
 "nbformat": 4,
 "nbformat_minor": 2
}
