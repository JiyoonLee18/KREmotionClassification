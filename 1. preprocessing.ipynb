{
 "cells": [
  {
   "cell_type": "code",
   "execution_count": 2,
   "metadata": {},
   "outputs": [
    {
     "name": "stderr",
     "output_type": "stream",
     "text": [
      "c:\\Users\\82105\\anaconda3\\envs\\torch\\lib\\site-packages\\tqdm\\auto.py:21: TqdmWarning: IProgress not found. Please update jupyter and ipywidgets. See https://ipywidgets.readthedocs.io/en/stable/user_install.html\n",
      "  from .autonotebook import tqdm as notebook_tqdm\n"
     ]
    }
   ],
   "source": [
    "import os\n",
    "import random\n",
    "\n",
    "from glob import glob\n",
    "import numpy as np\n",
    "import pandas as pd\n",
    "import matplotlib.pyplot as plt\n",
    "from numpy import dot\n",
    "from numpy.linalg import norm\n",
    "import seaborn as sns\n",
    "import matplotlib.pyplot as plt\n",
    "import urllib.request\n",
    "\n",
    "from sentence_transformers import SentenceTransformer\n",
    "\n",
    "import librosa\n",
    "import librosa.display\n",
    "from IPython.display import Audio\n",
    "from tqdm import tqdm"
   ]
  },
  {
   "cell_type": "code",
   "execution_count": 3,
   "metadata": {},
   "outputs": [],
   "source": [
    "current_path=os.getcwd().replace(\"\\\\\", \"/\").replace(\"c:\", \"C:\")\n",
    "data_path=current_path+'/data/'"
   ]
  },
  {
   "cell_type": "code",
   "execution_count": 6,
   "metadata": {},
   "outputs": [],
   "source": [
    "df_list=glob(data_path+\"*.csv\")\n",
    "txt_data=pd.DataFrame()\n",
    "for d in df_list:\n",
    "    if \"final\" in d:\n",
    "        pass\n",
    "    else:\n",
    "        tmp=pd.read_csv(d, encoding= 'CP949')\n",
    "        txt_data=pd.concat([txt_data, tmp])"
   ]
  },
  {
   "cell_type": "code",
   "execution_count": 7,
   "metadata": {},
   "outputs": [],
   "source": [
    "txt_data['1번 감정'] = txt_data['1번 감정'].apply(str.lower)\n",
    "txt_data['2번 감정'] = txt_data['2번 감정'].apply(str.lower)\n",
    "txt_data['3번 감정'] = txt_data['3번 감정'].apply(str.lower)\n",
    "txt_data['4번 감정'] = txt_data['4번 감정'].apply(str.lower)\n",
    "txt_data['5번 감정'] = txt_data['5번 감정'].apply(str.lower)"
   ]
  },
  {
   "cell_type": "code",
   "execution_count": 8,
   "metadata": {},
   "outputs": [],
   "source": [
    "def get_keys(dic): #returns a key for max values in dic\n",
    "  key_list = list(dic.keys())\n",
    "  val_list = list(dic.values())\n",
    "  pos = val_list.index(max(val_list))\n",
    "  return key_list[pos]"
   ]
  },
  {
   "cell_type": "code",
   "execution_count": 9,
   "metadata": {},
   "outputs": [],
   "source": [
    "final_label = []\n",
    "for i in range(len(txt_data)):\n",
    "  sentiments = {'angry':0, 'sadness':0, 'happiness':0, 'fear': 0, 'disgust':0, 'surprise':0, 'neutral':0}\n",
    "  sentiments[txt_data.iloc[i]['1번 감정']] += txt_data.iloc[i]['1번 감정세기']\n",
    "  sentiments[txt_data.iloc[i]['2번 감정']] += txt_data.iloc[i]['2번 감정세기']\n",
    "  sentiments[txt_data.iloc[i]['3번 감정']] += txt_data.iloc[i]['3번 감정세기']\n",
    "  sentiments[txt_data.iloc[i]['4번 감정']] += txt_data.iloc[i]['4번감정세기']\n",
    "  sentiments[txt_data.iloc[i]['5번 감정']] += txt_data.iloc[i]['5번 감정세기']\n",
    "\n",
    "  final_label.append(get_keys(sentiments))"
   ]
  },
  {
   "cell_type": "code",
   "execution_count": 10,
   "metadata": {},
   "outputs": [],
   "source": [
    "final_label_df = pd.DataFrame(final_label, columns=['final_label'])\n",
    "final_label_df.reset_index(inplace=True, drop=True)\n",
    "txt_data.reset_index(inplace=True, drop=True)\n",
    "new_txt_data = pd.concat([txt_data[['wav_id', '발화문']], final_label_df], axis = 1)"
   ]
  },
  {
   "cell_type": "code",
   "execution_count": 11,
   "metadata": {},
   "outputs": [],
   "source": [
    "audio_path = data_path+'wavFiles'\n",
    "wav_list = os.listdir(audio_path)\n",
    "wav_list_tmp = random.sample(wav_list, len(wav_list))"
   ]
  },
  {
   "cell_type": "code",
   "execution_count": 12,
   "metadata": {},
   "outputs": [],
   "source": [
    "wav_list_tmp_id = [] #wav 파일명에서 .wav 제외하고 순수한 wav_id를 추출\n",
    "for i in range(len(wav_list)):\n",
    "    wav_list_tmp_id.append(wav_list_tmp[i][:-4])"
   ]
  },
  {
   "cell_type": "code",
   "execution_count": 13,
   "metadata": {},
   "outputs": [
    {
     "name": "stderr",
     "output_type": "stream",
     "text": [
      "100%|██████████| 43991/43991 [02:14<00:00, 327.63it/s]\n"
     ]
    }
   ],
   "source": [
    "wav_list_tmp_label, wav_list_tmp_sentence = [], []\n",
    "error_id=[]\n",
    "for x in tqdm(wav_list_tmp_id):\n",
    "    try:\n",
    "        wav_list_tmp_label.append(new_txt_data[new_txt_data['wav_id'] == x]['final_label'].values[0])\n",
    "        wav_list_tmp_sentence.append(new_txt_data[new_txt_data['wav_id'] == x]['발화문'].values[0])\n",
    "    except:\n",
    "        error_id.append(x)"
   ]
  },
  {
   "cell_type": "code",
   "execution_count": 14,
   "metadata": {},
   "outputs": [
    {
     "name": "stderr",
     "output_type": "stream",
     "text": [
      "100%|██████████| 43991/43991 [00:00<00:00, 2094248.02it/s]\n"
     ]
    }
   ],
   "source": [
    "wav_tmp_id=[]\n",
    "for x in tqdm(wav_list_tmp_id):\n",
    "    if x not in error_id:\n",
    "        wav_tmp_id.append(x)"
   ]
  },
  {
   "cell_type": "code",
   "execution_count": 15,
   "metadata": {},
   "outputs": [
    {
     "data": {
      "text/plain": [
       "(43975, 43991, 43975, 43975)"
      ]
     },
     "execution_count": 15,
     "metadata": {},
     "output_type": "execute_result"
    }
   ],
   "source": [
    "len(wav_tmp_id), len(wav_list_tmp_id), len(wav_list_tmp_label), len(wav_list_tmp_sentence)"
   ]
  },
  {
   "cell_type": "code",
   "execution_count": 16,
   "metadata": {},
   "outputs": [],
   "source": [
    "wav_df = pd.DataFrame(\n",
    "    {'wav_id': wav_tmp_id,\n",
    "     'final_label': wav_list_tmp_label,\n",
    "     'sentence': wav_list_tmp_sentence\n",
    "    })"
   ]
  },
  {
   "cell_type": "code",
   "execution_count": 17,
   "metadata": {},
   "outputs": [
    {
     "data": {
      "text/plain": [
       "final_label\n",
       "sadness      21251\n",
       "angry        10422\n",
       "happiness     5103\n",
       "fear          3071\n",
       "disgust       2692\n",
       "surprise      1436\n",
       "Name: count, dtype: int64"
      ]
     },
     "execution_count": 17,
     "metadata": {},
     "output_type": "execute_result"
    }
   ],
   "source": [
    "wav_df.final_label.value_counts()"
   ]
  },
  {
   "cell_type": "code",
   "execution_count": 18,
   "metadata": {},
   "outputs": [],
   "source": [
    "emotion_list=list(wav_df.final_label.unique())\n",
    "total_wav=pd.DataFrame()\n",
    "for e in emotion_list:\n",
    "    if e==\"surprise\":\n",
    "        tmp=wav_df[wav_df['final_label']==e]\n",
    "    else:\n",
    "        tmp=wav_df[wav_df['final_label']==e].sample(2692)\n",
    "    total_wav=pd.concat([total_wav, tmp])"
   ]
  },
  {
   "cell_type": "code",
   "execution_count": 20,
   "metadata": {},
   "outputs": [],
   "source": [
    "wav_df=total_wav.copy()\n",
    "wav_df.reset_index(inplace=True, drop=True)"
   ]
  },
  {
   "cell_type": "code",
   "execution_count": 22,
   "metadata": {},
   "outputs": [],
   "source": [
    "def noise(data):\n",
    "    noise_amp = 0.035*np.random.uniform()*np.amax(data)\n",
    "    data = data + noise_amp*np.random.normal(size=data.shape[0])\n",
    "    return data\n",
    "\n",
    "def stretch(data, rate=0.8):\n",
    "    return librosa.effects.time_stretch(data, rate=0.8)\n",
    "\n",
    "def shift(data):\n",
    "    shift_range = int(np.random.uniform(low=-5, high = 5)*1000)\n",
    "    return np.roll(data, shift_range)\n",
    "\n",
    "def pitch(data, sampling_rate):\n",
    "    return librosa.effects.pitch_shift(data,sr=sampling_rate, n_steps=1)"
   ]
  },
  {
   "cell_type": "code",
   "execution_count": 23,
   "metadata": {},
   "outputs": [],
   "source": [
    "def extract_features(data, sample_rate):\n",
    "    # ZCR\n",
    "    result = np.array([])\n",
    "    zcr = np.mean(librosa.feature.zero_crossing_rate(y=data).T, axis=0)\n",
    "    result=np.hstack((result, zcr)) # stacking horizontally\n",
    "\n",
    "    # Chroma_stft\n",
    "    stft = np.abs(librosa.stft(data))\n",
    "    chroma_stft = np.mean(librosa.feature.chroma_stft(S=stft, sr=sample_rate).T, axis=0)\n",
    "    result = np.hstack((result, chroma_stft)) # stacking horizontally\n",
    "\n",
    "    # MFCC\n",
    "    mfcc = np.mean(librosa.feature.mfcc(y=data, sr=sample_rate).T, axis=0)\n",
    "    result = np.hstack((result, mfcc)) # stacking horizontally\n",
    "\n",
    "    # Root Mean Square Value\n",
    "    rms = np.mean(librosa.feature.rms(y=data).T, axis=0)\n",
    "    result = np.hstack((result, rms)) # stacking horizontally\n",
    "\n",
    "    # MelSpectogram\n",
    "    mel = np.mean(librosa.feature.melspectrogram(y=data, sr=sample_rate).T, axis=0)\n",
    "    result = np.hstack((result, mel)) # stacking horizontally\n",
    "\n",
    "    return result"
   ]
  },
  {
   "cell_type": "code",
   "execution_count": 24,
   "metadata": {},
   "outputs": [],
   "source": [
    "def get_features(path):\n",
    "\n",
    "    data, sample_rate = librosa.load(path, duration=2.5, offset=0.0)\n",
    "\n",
    "    # without augmentation\n",
    "    res1 = extract_features(data, sample_rate)\n",
    "    result = np.array(res1)\n",
    "\n",
    "    # data with noise\n",
    "    noise_data = noise(data)\n",
    "    res2 = extract_features(noise_data, sample_rate)\n",
    "    result = np.concatenate((result, res2), axis = 0)\n",
    "\n",
    "    # data with stretching and pitching\n",
    "    new_data = stretch(data)\n",
    "    data_stretch_pitch = pitch(new_data, sample_rate)\n",
    "    res3 = extract_features(data_stretch_pitch, sample_rate)\n",
    "    result = np.concatenate((result, res3), axis = 0)\n",
    "\n",
    "    return result"
   ]
  },
  {
   "cell_type": "code",
   "execution_count": 25,
   "metadata": {},
   "outputs": [
    {
     "name": "stderr",
     "output_type": "stream",
     "text": [
      " 86%|████████▌ | 12757/14896 [22:47<03:57,  9.02it/s]c:\\Users\\82105\\anaconda3\\envs\\torch\\lib\\site-packages\\librosa\\core\\pitch.py:101: UserWarning: Trying to estimate tuning from empty frequency set.\n",
      "  return pitch_tuning(\n",
      "100%|██████████| 14896/14896 [26:40<00:00,  9.31it/s]\n"
     ]
    }
   ],
   "source": [
    "X_audio, Y = [], []\n",
    "for path, label in tqdm(zip(wav_df['wav_id'], wav_df['final_label']), total=len(wav_df)):\n",
    "    audio_features = get_features(audio_path+'/'+path+'.wav')\n",
    "    X_audio.append(audio_features)\n",
    "    Y.append(label)\n",
    "\n",
    "audio_features = pd.DataFrame(X_audio)"
   ]
  },
  {
   "cell_type": "code",
   "execution_count": 26,
   "metadata": {},
   "outputs": [],
   "source": [
    "for i in audio_features.columns:\n",
    "  if audio_features[i].isnull().sum()!=0:\n",
    "    print(i)"
   ]
  },
  {
   "cell_type": "code",
   "execution_count": 27,
   "metadata": {},
   "outputs": [],
   "source": [
    "audio_features.reset_index(inplace=True, drop=True)\n",
    "wav_df.reset_index(inplace=True, drop=True)"
   ]
  },
  {
   "cell_type": "code",
   "execution_count": 28,
   "metadata": {},
   "outputs": [],
   "source": [
    "final_df=pd.concat([audio_features, wav_df], axis=1)\n",
    "final_df.to_csv(data_path+'final_df.csv', index=False)"
   ]
  }
 ],
 "metadata": {
  "kernelspec": {
   "display_name": "torch",
   "language": "python",
   "name": "python3"
  },
  "language_info": {
   "codemirror_mode": {
    "name": "ipython",
    "version": 3
   },
   "file_extension": ".py",
   "mimetype": "text/x-python",
   "name": "python",
   "nbconvert_exporter": "python",
   "pygments_lexer": "ipython3",
   "version": "3.10.13"
  }
 },
 "nbformat": 4,
 "nbformat_minor": 2
}
