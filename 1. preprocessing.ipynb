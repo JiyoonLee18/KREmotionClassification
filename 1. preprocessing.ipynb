{
 "cells": [
  {
   "cell_type": "code",
   "execution_count": 10,
   "metadata": {},
   "outputs": [],
   "source": [
    "import os\n",
    "import random\n",
    "\n",
    "import numpy as np\n",
    "import pandas as pd\n",
    "import matplotlib.pyplot as plt\n",
    "from numpy import dot\n",
    "from numpy.linalg import norm\n",
    "import seaborn as sns\n",
    "import matplotlib.pyplot as plt\n",
    "import urllib.request\n",
    "\n",
    "from sentence_transformers import SentenceTransformer\n",
    "\n",
    "import librosa\n",
    "import librosa.display\n",
    "from IPython.display import Audio\n",
    "from tqdm import tqdm"
   ]
  },
  {
   "cell_type": "code",
   "execution_count": 37,
   "metadata": {},
   "outputs": [],
   "source": [
    "current_path=os.getcwd().replace(\"\\\\\", \"/\").replace(\"c:\", \"C:\")\n",
    "data_path=current_path+'/data/'"
   ]
  },
  {
   "cell_type": "code",
   "execution_count": 39,
   "metadata": {},
   "outputs": [],
   "source": [
    "txt_data = pd.read_csv(data_path+\"/5차_10011.csv\", encoding= 'CP949')"
   ]
  },
  {
   "cell_type": "code",
   "execution_count": 43,
   "metadata": {},
   "outputs": [],
   "source": [
    "txt_data['1번 감정'] = txt_data['1번 감정'].apply(str.lower)\n",
    "txt_data['2번 감정'] = txt_data['2번 감정'].apply(str.lower)\n",
    "txt_data['3번 감정'] = txt_data['3번 감정'].apply(str.lower)\n",
    "txt_data['4번 감정'] = txt_data['4번 감정'].apply(str.lower)\n",
    "txt_data['5번 감정'] = txt_data['5번 감정'].apply(str.lower)"
   ]
  },
  {
   "cell_type": "code",
   "execution_count": 44,
   "metadata": {},
   "outputs": [],
   "source": [
    "def get_keys(dic): #returns a key for max values in dic\n",
    "  key_list = list(dic.keys())\n",
    "  val_list = list(dic.values())\n",
    "  pos = val_list.index(max(val_list))\n",
    "  return key_list[pos]\n",
    "\n",
    "final_label = []\n",
    "for i in range(len(txt_data)):\n",
    "  sentiments = {'angry':0, 'sadness':0, 'happiness':0, 'fear': 0, 'disgust':0, 'surprise':0, 'neutral':0}\n",
    "  sentiments[txt_data.iloc[i]['1번 감정']] += txt_data.iloc[i]['1번 감정세기']\n",
    "  sentiments[txt_data.iloc[i]['2번 감정']] += txt_data.iloc[i]['2번 감정세기']\n",
    "  sentiments[txt_data.iloc[i]['3번 감정']] += txt_data.iloc[i]['3번 감정세기']\n",
    "  sentiments[txt_data.iloc[i]['4번 감정']] += txt_data.iloc[i]['4번감정세기']\n",
    "  sentiments[txt_data.iloc[i]['5번 감정']] += txt_data.iloc[i]['5번 감정세기']\n",
    "\n",
    "  final_label.append(get_keys(sentiments))\n",
    "\n",
    "final_label_df = pd.DataFrame(final_label, columns=['final_label'])\n",
    "new_txt_data = pd.concat([txt_data[['wav_id', '발화문']], final_label_df], axis = 1)"
   ]
  },
  {
   "cell_type": "code",
   "execution_count": 47,
   "metadata": {},
   "outputs": [],
   "source": [
    "audio_path = data_path+'5차_wav'\n",
    "wav_list = os.listdir(audio_path)\n",
    "wav_list_tmp = random.sample(wav_list, len(wav_list))"
   ]
  },
  {
   "cell_type": "code",
   "execution_count": 48,
   "metadata": {},
   "outputs": [],
   "source": [
    "wav_list_tmp_id = [] #wav 파일명에서 .wav 제외하고 순수한 wav_id를 추출\n",
    "for i in range(len(wav_list)):\n",
    "    wav_list_tmp_id.append(wav_list_tmp[i][:-4])\n",
    "\n",
    "wav_list_tmp_label, wav_list_tmp_sentence = [], []\n",
    "for x in wav_list_tmp_id:\n",
    "  wav_list_tmp_label.append(new_txt_data[new_txt_data['wav_id'] == x]['final_label'].values[0])\n",
    "  wav_list_tmp_sentence.append(new_txt_data[new_txt_data['wav_id'] == x]['발화문'].values[0])\n",
    "\n",
    "wav_df = pd.DataFrame(\n",
    "    {'wav_id': wav_list_tmp_id,\n",
    "     'final_label': wav_list_tmp_label,\n",
    "     'sentence': wav_list_tmp_sentence\n",
    "    })"
   ]
  },
  {
   "cell_type": "code",
   "execution_count": 49,
   "metadata": {},
   "outputs": [],
   "source": [
    "sad=wav_df[wav_df['final_label']=='sadness']\n",
    "angry=wav_df[wav_df['final_label']=='angry']\n",
    "\n",
    "sad=sad.sample(600)\n",
    "angry=angry.sample(600)\n",
    "\n",
    "else_df=wav_df[(wav_df['final_label']!='sadness')&(wav_df['final_label']!='angry')]\n",
    "\n",
    "wav_df=pd.concat([angry, sad, else_df])"
   ]
  },
  {
   "cell_type": "code",
   "execution_count": 50,
   "metadata": {},
   "outputs": [],
   "source": [
    "def noise(data):\n",
    "    noise_amp = 0.035*np.random.uniform()*np.amax(data)\n",
    "    data = data + noise_amp*np.random.normal(size=data.shape[0])\n",
    "    return data\n",
    "\n",
    "def stretch(data, rate=0.8):\n",
    "    return librosa.effects.time_stretch(data, rate=0.8)\n",
    "\n",
    "def shift(data):\n",
    "    shift_range = int(np.random.uniform(low=-5, high = 5)*1000)\n",
    "    return np.roll(data, shift_range)\n",
    "\n",
    "def pitch(data, sampling_rate):\n",
    "    return librosa.effects.pitch_shift(data,sr=sampling_rate, n_steps=1)"
   ]
  },
  {
   "cell_type": "code",
   "execution_count": 51,
   "metadata": {},
   "outputs": [],
   "source": [
    "def extract_features(data, sample_rate):\n",
    "    # ZCR\n",
    "    result = np.array([])\n",
    "    zcr = np.mean(librosa.feature.zero_crossing_rate(y=data).T, axis=0)\n",
    "    result=np.hstack((result, zcr)) # stacking horizontally\n",
    "\n",
    "    # Chroma_stft\n",
    "    stft = np.abs(librosa.stft(data))\n",
    "    chroma_stft = np.mean(librosa.feature.chroma_stft(S=stft, sr=sample_rate).T, axis=0)\n",
    "    result = np.hstack((result, chroma_stft)) # stacking horizontally\n",
    "\n",
    "    # MFCC\n",
    "    mfcc = np.mean(librosa.feature.mfcc(y=data, sr=sample_rate).T, axis=0)\n",
    "    result = np.hstack((result, mfcc)) # stacking horizontally\n",
    "\n",
    "    # Root Mean Square Value\n",
    "    rms = np.mean(librosa.feature.rms(y=data).T, axis=0)\n",
    "    result = np.hstack((result, rms)) # stacking horizontally\n",
    "\n",
    "    # MelSpectogram\n",
    "    mel = np.mean(librosa.feature.melspectrogram(y=data, sr=sample_rate).T, axis=0)\n",
    "    result = np.hstack((result, mel)) # stacking horizontally\n",
    "\n",
    "    return result"
   ]
  },
  {
   "cell_type": "code",
   "execution_count": 52,
   "metadata": {},
   "outputs": [],
   "source": [
    "def get_features(path):\n",
    "\n",
    "    data, sample_rate = librosa.load(path, duration=2.5, offset=0.0)\n",
    "\n",
    "    # without augmentation\n",
    "    res1 = extract_features(data, sample_rate)\n",
    "    result = np.array(res1)\n",
    "\n",
    "    # data with noise\n",
    "    noise_data = noise(data)\n",
    "    res2 = extract_features(noise_data, sample_rate)\n",
    "    result = np.concatenate((result, res2), axis = 0)\n",
    "\n",
    "    # data with stretching and pitching\n",
    "    new_data = stretch(data)\n",
    "    data_stretch_pitch = pitch(new_data, sample_rate)\n",
    "    res3 = extract_features(data_stretch_pitch, sample_rate)\n",
    "    result = np.concatenate((result, res3), axis = 0)\n",
    "\n",
    "    return result"
   ]
  },
  {
   "cell_type": "code",
   "execution_count": 54,
   "metadata": {},
   "outputs": [
    {
     "name": "stderr",
     "output_type": "stream",
     "text": [
      "100%|██████████| 2614/2614 [04:18<00:00, 10.11it/s]\n"
     ]
    }
   ],
   "source": [
    "X_audio, Y = [], []\n",
    "for path, label in tqdm(zip(wav_df['wav_id'], wav_df['final_label']), total=len(wav_df)):\n",
    "    audio_features = get_features(audio_path+'/'+path+'.wav')\n",
    "    X_audio.append(audio_features)\n",
    "    Y.append(label)\n",
    "\n",
    "audio_features = pd.DataFrame(X_audio)"
   ]
  },
  {
   "cell_type": "code",
   "execution_count": 55,
   "metadata": {},
   "outputs": [],
   "source": [
    "for i in audio_features.columns:\n",
    "  if audio_features[i].isnull().sum()!=0:\n",
    "    print(i)"
   ]
  },
  {
   "cell_type": "code",
   "execution_count": 56,
   "metadata": {},
   "outputs": [],
   "source": [
    "audio_features.reset_index(inplace=True, drop=True)\n",
    "wav_df.reset_index(inplace=True, drop=True)"
   ]
  },
  {
   "cell_type": "code",
   "execution_count": 57,
   "metadata": {},
   "outputs": [],
   "source": [
    "final_df=pd.concat([audio_features, wav_df], axis=1)\n",
    "final_df.to_csv(data_path+'final_df.csv', index=False)"
   ]
  },
  {
   "cell_type": "code",
   "execution_count": null,
   "metadata": {},
   "outputs": [],
   "source": []
  }
 ],
 "metadata": {
  "kernelspec": {
   "display_name": "torch",
   "language": "python",
   "name": "python3"
  },
  "language_info": {
   "codemirror_mode": {
    "name": "ipython",
    "version": 3
   },
   "file_extension": ".py",
   "mimetype": "text/x-python",
   "name": "python",
   "nbconvert_exporter": "python",
   "pygments_lexer": "ipython3",
   "version": "3.10.13"
  }
 },
 "nbformat": 4,
 "nbformat_minor": 2
}
